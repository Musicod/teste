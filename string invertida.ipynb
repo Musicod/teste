{
 "cells": [
  {
   "cell_type": "markdown",
   "metadata": {},
   "source": [
    "# Implementação de Pilha \n",
    "string invertida\n"
   ]
  },
  {
   "cell_type": "code",
   "execution_count": 14,
   "metadata": {},
   "outputs": [
    {
     "name": "stdout",
     "output_type": "stream",
     "text": [
      "A string 'Python' invertida é: 'nohtyP'\n",
      "A string 'Alou brazil!' invertida é: '!lizarb uolA'\n",
      "A string '54321' invertida é: '12345'\n",
      "A string '!@#$%&' invertida é: '&%$#@!'\n"
     ]
    }
   ],
   "source": [
    "class No:\n",
    "    def __init__(self, valor):\n",
    "        self.valor = valor\n",
    "        self.proximo = None\n",
    "\n",
    "class Pilha:\n",
    "    def __init__(self):\n",
    "        self.topo = None\n",
    "\n",
    "    def push(self, valor):\n",
    "        novo_no = No(valor)\n",
    "        novo_no.proximo = self.topo\n",
    "        self.topo = novo_no\n",
    "\n",
    "    def pop(self):\n",
    "        if self.topo is not None:\n",
    "            removido = self.topo\n",
    "            self.topo = self.topo.proximo\n",
    "            return removido.valor\n",
    "        raise Exception(\"Pilha vazia.\")\n",
    "\n",
    "    def peek(self):\n",
    "        if self.topo is not None:\n",
    "            return self.topo.valor\n",
    "        raise Exception(\"Pilha vazia.\")\n",
    "\n",
    "    def is_empty(self):\n",
    "        return self.topo is None\n",
    "\n",
    "def inverter_string(string):\n",
    "    pilha = Pilha()  \n",
    "    for caractere in string:\n",
    "        pilha.push(caractere)  # Insere cada caractere da string na pilha\n",
    "\n",
    "    string_invertida = \"\"\n",
    "    while not pilha.is_empty():  \n",
    "        string_invertida += pilha.pop()  # Remove e adiciona os caracteres em ordem reversa na string invertida\n",
    "\n",
    "    return string_invertida\n",
    "\n",
    "# Testes\n",
    "strings = [\"Python\", \"Alou brazil!\", \"54321\", \"!@#$%&\"]\n",
    "for string in strings:\n",
    "    string_invertida = inverter_string(string)  # Chama a função inverter_string com cada string da lista\n",
    "    print(f\"A string '{string}' invertida é: '{string_invertida}'\") "
   ]
  }
 ],
 "metadata": {
  "kernelspec": {
   "display_name": "gpuTorch",
   "language": "python",
   "name": "python3"
  },
  "language_info": {
   "codemirror_mode": {
    "name": "ipython",
    "version": 3
   },
   "file_extension": ".py",
   "mimetype": "text/x-python",
   "name": "python",
   "nbconvert_exporter": "python",
   "pygments_lexer": "ipython3",
   "version": "3.11.5"
  }
 },
 "nbformat": 4,
 "nbformat_minor": 2
}
